{
 "cells": [
  {
   "cell_type": "code",
   "execution_count": 1,
   "id": "f1de5eb4",
   "metadata": {},
   "outputs": [
    {
     "name": "stdout",
     "output_type": "stream",
     "text": [
      "torch gpu status:  True\n",
      "torch gpu counts:  1\n",
      "torch gpu device name:  NVIDIA GeForce RTX 3060\n",
      "torch gpu current device name:  0\n"
     ]
    }
   ],
   "source": [
    "import torch\n",
    "print('torch gpu status: ',torch.cuda.is_available())\n",
    "print('torch gpu counts: ',torch.cuda.device_count())\n",
    "print('torch gpu device name: ',torch.cuda.get_device_name(0))\n",
    "print('torch gpu current device name: ',torch.cuda.current_device())"
   ]
  },
  {
   "cell_type": "code",
   "execution_count": null,
   "id": "9a8d3679",
   "metadata": {},
   "outputs": [],
   "source": []
  }
 ],
 "metadata": {
  "kernelspec": {
   "display_name": "Python [conda env:torchtest] *",
   "language": "python",
   "name": "conda-env-torchtest-py"
  },
  "language_info": {
   "codemirror_mode": {
    "name": "ipython",
    "version": 3
   },
   "file_extension": ".py",
   "mimetype": "text/x-python",
   "name": "python",
   "nbconvert_exporter": "python",
   "pygments_lexer": "ipython3",
   "version": "3.6.5"
  }
 },
 "nbformat": 4,
 "nbformat_minor": 5
}
